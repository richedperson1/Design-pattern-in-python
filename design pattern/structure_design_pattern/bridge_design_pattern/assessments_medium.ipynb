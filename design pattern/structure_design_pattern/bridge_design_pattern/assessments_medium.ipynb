{
 "cells": [
  {
   "cell_type": "markdown",
   "id": "27ff7a02",
   "metadata": {},
   "source": [
    "🧾 Problem Statement:\n",
    "\n",
    "You're tasked with designing a Notification   System for a SaaS platform.\n",
    "Business Requirements:\n",
    "\n",
    "    - Users can receive notifications through multiple channels: Email, SMS, and Push Notification.\n",
    "    - Notifications can be of different types: Info, Warning, Alert.\n",
    "\n",
    "In the future, new channels (like WhatsApp, Slack) and new types (like Promotion, Transactional) will be added.\n",
    "🎯 Your Task:\n",
    "Implement the Bridge Pattern to design this notification system such that:\n",
    "\n",
    "    - Adding a new channel or type doesn't require modifying existing classes.\n",
    "    - Each notification should use a channel and be able to send a message with it."
   ]
  },
  {
   "cell_type": "code",
   "execution_count": null,
   "id": "ea219e1e",
   "metadata": {},
   "outputs": [],
   "source": [
    "from abc import ABC,abstractmethod"
   ]
  },
  {
   "cell_type": "code",
   "execution_count": 4,
   "id": "20442d4d",
   "metadata": {},
   "outputs": [
    {
     "data": {
      "text/plain": [
       "'Warning notification via SMS : Your performance is not good'"
      ]
     },
     "execution_count": 4,
     "metadata": {},
     "output_type": "execute_result"
    }
   ],
   "source": [
    "from abc import ABC,abstractmethod\n",
    "\n",
    "class INotification(ABC):\n",
    "    @abstractmethod\n",
    "    def send_notification(self):\n",
    "        pass\n",
    "\n",
    "class INotificationType(ABC):\n",
    "    def __init__(self,notificationProvider:INotification):\n",
    "        self.notificationProvider = notificationProvider\n",
    "        \n",
    "    @abstractmethod\n",
    "    def process_notification(self,content):\n",
    "        pass\n",
    "\n",
    "class emailNotification(INotification):\n",
    "    def send_notification(self,content):\n",
    "        return f\"via Email : {content}\"\n",
    "\n",
    "\n",
    "class smsNotification(INotification):\n",
    "    def send_notification(self,content):\n",
    "        return f\"via SMS : {content}\"\n",
    "\n",
    "\n",
    "class pushNotification(INotification):\n",
    "    def send_notification(self,content):\n",
    "        return f\"via PUSH : {content}\"\n",
    "\n",
    "\n",
    "class infoNotify(INotificationType):\n",
    "    def process_notification(self,content):\n",
    "        return \"Info notification \"+self.notificationProvider.send_notification(content)\n",
    "\n",
    "\n",
    "class warningNotify(INotificationType):\n",
    "    def process_notification(self,content):\n",
    "        return \"Warning notification \"+self.notificationProvider.send_notification(content)\n",
    "\n",
    "class alertNotify(INotificationType):\n",
    "    def process_notification(self,content):\n",
    "        return \"Alert notification \"+self.notificationProvider.send_notification(content)\n",
    "\n",
    "\n",
    "\n",
    "warningObj = warningNotify(notificationProvider=smsNotification())\n",
    "\n",
    "warningObj.process_notification(content=\"Your performance is not good\")"
   ]
  }
 ],
 "metadata": {
  "kernelspec": {
   "display_name": "Python 3",
   "language": "python",
   "name": "python3"
  },
  "language_info": {
   "codemirror_mode": {
    "name": "ipython",
    "version": 3
   },
   "file_extension": ".py",
   "mimetype": "text/x-python",
   "name": "python",
   "nbconvert_exporter": "python",
   "pygments_lexer": "ipython3",
   "version": "3.12.7"
  }
 },
 "nbformat": 4,
 "nbformat_minor": 5
}
