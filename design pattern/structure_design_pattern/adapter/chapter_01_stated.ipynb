{
 "cells": [
  {
   "cell_type": "code",
   "execution_count": 1,
   "metadata": {},
   "outputs": [],
   "source": [
    "# Medium-Level Assessment"
   ]
  },
  {
   "cell_type": "code",
   "execution_count": 5,
   "metadata": {},
   "outputs": [],
   "source": [
    "# Medium-Level Assessment\n",
    "class xmlLogger:\n",
    "    def log_xml(self,message):\n",
    "        return f\"logs {message} in XML format\"\n",
    "\n",
    "class jsonLogger:\n",
    "    def log_json(self,message):\n",
    "        return f\"logs {message} in json format\"\n",
    "    \n",
    "\n",
    "class jsonLoggerAdpter:\n",
    "    def __init__(self,logger):\n",
    "        self.xml_log = logger()\n",
    "        \n",
    "    def log_json(self,message):\n",
    "        # pre-processing for json converter\n",
    "        xml_message =  self.xml_log.log_xml(message)\n",
    "        return xml_message.replace(\"xml\",\"json\")\n",
    "\n",
    "\n",
    "json_adaptor = jsonLoggerAdpter(xmlLogger)\n",
    "\n",
    "json_logger_obj = jsonLogger()\n",
    "\n"
   ]
  },
  {
   "cell_type": "markdown",
   "metadata": {},
   "source": [
    "Hard-Level Assessment\n"
   ]
  },
  {
   "cell_type": "code",
   "execution_count": null,
   "metadata": {},
   "outputs": [],
   "source": [
    "# Hard-Level Assessment\n",
    "class legacyNotificationSystem:\n",
    "    def send_email(self,subject,body):\n",
    "        return f\"Sending the email {subject} with {body}\"\n",
    "    \n",
    "\n",
    "class newNotificationSystem:\n",
    "    def __init__(self,system):\n",
    "        self.old_system = system()\n",
    "    def send_notification(self,title,content):\n",
    "        old_notification =  self.old_system.send_email(title,content)\n",
    "        return old_notification\n",
    "\n",
    "class smsNotificationSystem:\n",
    "    def send_notification(self,title,content):\n",
    "        return f\"sending the sms of {title} with content\"\n",
    "    \n",
    "\n",
    "sms_notification = smsNotificationSystem()\n",
    "old_adapter = newNotificationSystem(system=legacyNotificationSystem)\n",
    "\n"
   ]
  },
  {
   "cell_type": "markdown",
   "metadata": {},
   "source": [
    "## real world problem"
   ]
  },
  {
   "cell_type": "code",
   "execution_count": null,
   "metadata": {},
   "outputs": [
    {
     "data": {
      "text/plain": [
       "'Playing the not_found.file in wav format'"
      ]
     },
     "execution_count": 17,
     "metadata": {},
     "output_type": "execute_result"
    }
   ],
   "source": [
    "from abc import ABC, abstractmethod\n",
    "\n",
    "class IMusicPlayer(ABC):\n",
    "    @abstractmethod\n",
    "    def play_audio(self):\n",
    "        pass\n",
    "    \n",
    "class mp3Player:\n",
    "    def play_mp3(self,filename):\n",
    "        return f\"Playing the {filename} mp3 format\"\n",
    "    \n",
    "\n",
    "class wavPlayer(IMusicPlayer):\n",
    "    def play_audio(self,filename):\n",
    "        return f\"Playing the {filename} in wav format\"\n",
    "\n",
    "class FLACPlayer(IMusicPlayer):\n",
    "    def play_audio(self,filename):\n",
    "        return f\"Playing the {filename} in FLAC format\"\n",
    "\n",
    "class newMusicAdapter(IMusicPlayer):\n",
    "    def __init__(self,music_player):\n",
    "        self.old_player = music_player()\n",
    "    def play_audio(self,filename):\n",
    "        return self.old_player.play_mp3(filename)\n",
    "    \n",
    "\n",
    "mp4MusicAdapter = newMusicAdapter(mp3Player)\n",
    "\n",
    "\n",
    "class musicFactory(IMusicPlayer):\n",
    "    _music_format_register = {}\n",
    "    def play_audio(self,format,filename):\n",
    "        return self.get_player(format).play_audio(filename)\n",
    "    \n",
    "    def register_player(self,player_name,player_function):\n",
    "        self._music_format_register[player_name] = player_function\n",
    "        return f\"Sucessfully register {player_name}\"\n",
    "    \n",
    "    def get_player(self,player_name):\n",
    "        player =  self._music_format_register.get(player_name,None)\n",
    "        if not player:\n",
    "            raise NotImplementedError(f\"Not implemented the {player_name} player \")\n",
    "        return player\n",
    "\n",
    "\n",
    "music_factory = musicFactory()\n",
    "\n",
    "music_factory.register_player(\"mp3\",mp4MusicAdapter)\n",
    "music_factory.register_player(\"flac\",FLACPlayer())\n",
    "music_factory.register_player(\"wav\",wavPlayer())\n",
    "\n",
    "\n",
    "music_factory.play_audio(\"mp3\",\"not_found\")\n",
    "music_factory.play_audio(\"wav\",\"not_found.file\")"
   ]
  }
 ],
 "metadata": {
  "kernelspec": {
   "display_name": "Python 3",
   "language": "python",
   "name": "python3"
  },
  "language_info": {
   "codemirror_mode": {
    "name": "ipython",
    "version": 3
   },
   "file_extension": ".py",
   "mimetype": "text/x-python",
   "name": "python",
   "nbconvert_exporter": "python",
   "pygments_lexer": "ipython3",
   "version": "3.12.7"
  }
 },
 "nbformat": 4,
 "nbformat_minor": 2
}
