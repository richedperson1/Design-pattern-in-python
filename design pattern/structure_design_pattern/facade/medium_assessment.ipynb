{
 "cells": [
  {
   "cell_type": "markdown",
   "id": "6e2ffdf0",
   "metadata": {},
   "source": [
    "### ✅ Problem: File Compression Tool\n",
    "- You're building a simple file compression utility. Internally, there are different compression algorithms: zip, tar, and gzip."
   ]
  },
  {
   "cell_type": "code",
   "execution_count": null,
   "id": "2ef4797b",
   "metadata": {},
   "outputs": [],
   "source": [
    "\n"
   ]
  },
  {
   "cell_type": "code",
   "execution_count": 3,
   "id": "c8675337",
   "metadata": {},
   "outputs": [
    {
     "data": {
      "text/plain": [
       "b'\\x1f\\x8b\\x08\\x00\\xf7Z\\x1bh\\x02\\xff\\xcbH\\xcd\\xc9\\xc9W(\\xcf/\\xcaI\\x01\\x00\\x85\\x11J\\r\\x0b\\x00\\x00\\x00'"
      ]
     },
     "execution_count": 3,
     "metadata": {},
     "output_type": "execute_result"
    }
   ],
   "source": [
    "from abc import ABC, abstractmethod\n",
    "class ICompressor(ABC):\n",
    "    @abstractmethod\n",
    "    def compress(self, data):\n",
    "        \"\"\"\n",
    "        Compress the given data.\n",
    "\n",
    "        :param data: The data to compress.\n",
    "        :return: The compressed data.\n",
    "        \"\"\"\n",
    "        raise NotImplementedError(\"Subclasses should implement this method.\")\n",
    "    \n",
    "    @abstractmethod\n",
    "    def decompress(self, data):\n",
    "        \"\"\"\n",
    "        Decompress the given data.\n",
    "\n",
    "        :param data: The data to decompress.\n",
    "        :return: The decompressed data.\n",
    "        \"\"\"\n",
    "        raise NotImplementedError(\"Subclasses should implement this method.\")\n",
    "    \n",
    "\n",
    "\n",
    "\n",
    "class GzipCompressor(ICompressor):\n",
    "    def compress(self, data):\n",
    "        import gzip\n",
    "        return gzip.compress(data.encode('utf-8'))\n",
    "\n",
    "    def decompress(self, data):\n",
    "        import gzip\n",
    "        return gzip.decompress(data).decode('utf-8')\n",
    "\n",
    "class ZipCompressor(ICompressor):\n",
    "    def compress(self, data):\n",
    "        import zipfile\n",
    "        import io\n",
    "        buffer = io.BytesIO()\n",
    "        with zipfile.ZipFile(buffer, 'w', zipfile.ZIP_DEFLATED) as zip_file:\n",
    "            zip_file.writestr('data.txt', data.encode('utf-8'))\n",
    "        return buffer.getvalue()\n",
    "\n",
    "    def decompress(self, data):\n",
    "        import zipfile\n",
    "        import io\n",
    "        buffer = io.BytesIO(data)\n",
    "        with zipfile.ZipFile(buffer, 'r') as zip_file:\n",
    "            return zip_file.read('data.txt').decode('utf-8')\n",
    "        \n",
    "    \n",
    "class TarCompressor(ICompressor):\n",
    "    def compress(self, data):\n",
    "        import tarfile\n",
    "        import io\n",
    "        buffer = io.BytesIO()\n",
    "        with tarfile.open(fileobj=buffer, mode='w:gz') as tar_file:\n",
    "            info = tarfile.TarInfo(name='data.txt')\n",
    "            info.size = len(data.encode('utf-8'))\n",
    "            tar_file.addfile(tarinfo=info, fileobj=io.BytesIO(data.encode('utf-8')))\n",
    "        return buffer.getvalue()\n",
    "\n",
    "    def decompress(self, data):\n",
    "        import tarfile\n",
    "        import io\n",
    "        buffer = io.BytesIO(data)\n",
    "        with tarfile.open(fileobj=buffer, mode='r:gz') as tar_file:\n",
    "            return tar_file.extractfile('data.txt').read().decode('utf-8')\n",
    "        \n",
    "        \n",
    "class Compressor(ICompressor):\n",
    "    def __init__(self):\n",
    "        self._file_operation_fun = {}\n",
    "\n",
    "    def compress(self, data,compressor_name: str = None):\n",
    "        file_operation_fun = self._file_operation_fun.get(compressor_name)\n",
    "        if file_operation_fun is None:\n",
    "            raise ValueError(f\"Compressor '{compressor_name}' not found.\")\n",
    "        \n",
    "        return file_operation_fun.compress(data)\n",
    "\n",
    "    def decompress(self, data,decompressor_name: str = None):\n",
    "        file_operation_fun = self._file_operation_fun.get(decompressor_name)\n",
    "        if file_operation_fun is None:\n",
    "            raise ValueError(f\"Compressor '{decompressor_name}' not found.\")\n",
    "        \n",
    "        return file_operation_fun.decompress(data)\n",
    "        \n",
    "    def add_compressor(self, file_operation_fun: ICompressor,compressor_name: str = None):\n",
    "        self._file_operation_fun[compressor_name] = file_operation_fun\n",
    "        return self\n",
    "\n",
    "file_object = Compressor()\n",
    "file_object.add_compressor(GzipCompressor(),compressor_name='gzip')\\\n",
    "    .add_compressor(ZipCompressor(),compressor_name='zip')\\\n",
    "    .add_compressor(TarCompressor(),compressor_name='tar')\n",
    "    \n",
    "file_object.compress('hello world',compressor_name='gzip')\n"
   ]
  }
 ],
 "metadata": {
  "kernelspec": {
   "display_name": "Python 3",
   "language": "python",
   "name": "python3"
  },
  "language_info": {
   "codemirror_mode": {
    "name": "ipython",
    "version": 3
   },
   "file_extension": ".py",
   "mimetype": "text/x-python",
   "name": "python",
   "nbconvert_exporter": "python",
   "pygments_lexer": "ipython3",
   "version": "3.12.7"
  }
 },
 "nbformat": 4,
 "nbformat_minor": 5
}
