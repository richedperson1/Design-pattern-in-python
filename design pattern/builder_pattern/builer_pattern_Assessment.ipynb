{
 "cells": [
  {
   "cell_type": "markdown",
   "metadata": {},
   "source": [
    "## Problem Statement:\n",
    "### You are building a Car Manufacturing System. Implement a CarBuilder class that allows customers to configure a car by selecting\n",
    "\n",
    "- Car type (Sedan, SUV)\n",
    "- Color\n",
    "- Engine Type (Petrol, Diesel, Electric)\n",
    "- Sunroof (Optional)\n",
    "- Your Task:\n",
    "\n",
    "## Implement the CarBuilder class.\n",
    "- Ensure method chaining works (e.g., CarBuilder().set_type(\"SUV\").set_color(\"Red\").build()).\n",
    "- Implement a CarDirector to create pre-configured cars."
   ]
  },
  {
   "cell_type": "code",
   "execution_count": null,
   "metadata": {},
   "outputs": [],
   "source": []
  }
 ],
 "metadata": {
  "kernelspec": {
   "display_name": "Python 3",
   "language": "python",
   "name": "python3"
  },
  "language_info": {
   "name": "python",
   "version": "3.12.7"
  }
 },
 "nbformat": 4,
 "nbformat_minor": 2
}
