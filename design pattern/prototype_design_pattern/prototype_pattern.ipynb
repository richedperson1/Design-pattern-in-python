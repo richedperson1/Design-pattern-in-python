{
 "cells": [
  {
   "cell_type": "code",
   "execution_count": 1,
   "metadata": {},
   "outputs": [
    {
     "data": {
      "text/plain": [
       "'Problem: Implement a prototype-based system for a document editor where different types of documents (e.g., WordDocument, Spreadsheet) can be cloned to create new instances with the same content. Ensure that each document type includes metadata such as the author and creation date.\\n\\nRequirements:\\n\\nDefine an abstract base class Document with a clone method.\\n\\nImplement concrete classes WordDocument and Spreadsheet that inherit from Document.\\n\\nEach concrete class should store content and metadata attributes.\\n\\nDemonstrate cloning of documents, ensuring that the cloned document maintains the same content and metadata as the original.'"
      ]
     },
     "execution_count": 1,
     "metadata": {},
     "output_type": "execute_result"
    }
   ],
   "source": [
    "\"\"\"Problem: Implement a prototype-based system for a document editor where different types of documents (e.g., WordDocument, Spreadsheet) can be cloned to create new instances with the same content. Ensure that each document type includes metadata such as the author and creation date.\n",
    "\n",
    "Requirements:\n",
    "\n",
    "Define an abstract base class Document with a clone method.\n",
    "\n",
    "Implement concrete classes WordDocument and Spreadsheet that inherit from Document.\n",
    "\n",
    "Each concrete class should store content and metadata attributes.\n",
    "\n",
    "Demonstrate cloning of documents, ensuring that the cloned document maintains the same content and metadata as the original.\"\"\""
   ]
  },
  {
   "cell_type": "markdown",
   "metadata": {},
   "source": [
    "Problem: Implement a prototype-based system for a document editor where different types of documents (e.g., WordDocument, Spreadsheet) can be cloned to create new instances with the same content. Ensure that each document type includes metadata such as the author and creation date.\n",
    "\n",
    "Requirements:\n",
    "- Define an abstract base class Document with a clone method.\n",
    "- Implement concrete classes WordDocument and Spreadsheet that inherit from Document.\n",
    "- Each concrete class should store content and metadata attributes.\n",
    "- Demonstrate cloning of documents, ensuring that the cloned document maintains the same content and metadata as the original."
   ]
  },
  {
   "cell_type": "code",
   "execution_count": 2,
   "metadata": {},
   "outputs": [],
   "source": [
    "import copy"
   ]
  },
  {
   "cell_type": "code",
   "execution_count": null,
   "metadata": {},
   "outputs": [],
   "source": [
    "from abc import ABC,abstractmethod\n",
    "class document_prototype(ABC):\n",
    "    def __init__(self,content):\n",
    "        self.content = content\n",
    "        \n",
    "    @abstractmethod\n",
    "    def clone(self):\n",
    "        pass\n",
    "    \n",
    "\n",
    "class WordDocument(document_prototype):\n",
    "    def __init__(self, content:str,metadata:dict):\n",
    "        super().__init__(content)\n",
    "        self.metadata = metadata\n",
    "        self.content_type = \"Words Document\"\n",
    "    \n",
    "    def clone(self,deep = False):\n",
    "        return copy.deepcopy(self) if deep else copy.copy(self)\n",
    "    \n",
    "\n",
    "class Spreadsheet(document_prototype):\n",
    "    def __init__(self, content:str,metadata:list):\n",
    "        super().__init__(content)\n",
    "        self.metadata = metadata\n",
    "        self.content_type = \"Spread sheet\"\n",
    "    \n",
    "    def clone(self,deep = False):\n",
    "        return copy.deepcopy(self) if deep else copy.copy(self)\n",
    "    \n",
    "    \n",
    "speed_data = \"Hi this is the content from spread sheet\"\n",
    "metadata = {\"author\":\"Rutvik Jaiswal\",\"email_id\":\"rutvikjaiswal195@gmail.com\",\"company\":\"valuelabs\"}\n",
    "\n",
    "\n",
    "spreadsheet1 = Spreadsheet(content=speed_data,metadata=metadata)\n",
    "spreadsheet2 = spreadsheet1.clone(False)\n",
    "\n",
    "\n",
    "spreadsheet2.content = \"Modified content\"\n",
    "spreadsheet2.content,spreadsheet1.content"
   ]
  },
  {
   "cell_type": "code",
   "execution_count": 5,
   "metadata": {},
   "outputs": [],
   "source": [
    "speed_data = \"Hi this is the content from spread sheet\"\n",
    "metadata = {\"author\":\"Rutvik Jaiswal\",\"email_id\":\"rutvikjaiswal195@gmail.com\",\"company\":\"valuelabs\"}\n"
   ]
  },
  {
   "cell_type": "code",
   "execution_count": 12,
   "metadata": {},
   "outputs": [],
   "source": [
    "\n",
    "spreadsheet1 = Spreadsheet(content=speed_data,metadata=metadata)\n",
    "spreadsheet2 = spreadsheet1.clone(False)"
   ]
  },
  {
   "cell_type": "code",
   "execution_count": 13,
   "metadata": {},
   "outputs": [
    {
     "data": {
      "text/plain": [
       "('Modified content', 'Hi this is the content from spread sheet')"
      ]
     },
     "execution_count": 13,
     "metadata": {},
     "output_type": "execute_result"
    }
   ],
   "source": [
    "spreadsheet2.content = \"Modified content\"\n",
    "spreadsheet2.content,spreadsheet1.content"
   ]
  },
  {
   "cell_type": "markdown",
   "metadata": {},
   "source": [
    "Problem: Design a prototype-based system for a graphical application that manages complex shapes composed of simpler shapes. Implement cloning functionality that allows for deep copying of composite shapes, ensuring that changes to the cloned composite do not affect the original.\n",
    "\n",
    "Requirements:\n",
    "\n",
    "- Define a Graphic interface with a clone method.\n",
    "- Implement simple shape classes (e.g., Line, Ellipse) that conform to the Graphic interface.\n",
    "- Implement a CompositeGraphic class that can contain multiple Graphic objects and also conforms to the Graphic interface.\n",
    "- Ensure that the clone method in CompositeGraphic performs a deep copy, creating new instances of its contained graphics.\n",
    "- Demonstrate that modifying a cloned CompositeGraphic does not affect the original composite."
   ]
  },
  {
   "cell_type": "code",
   "execution_count": 16,
   "metadata": {},
   "outputs": [],
   "source": [
    "from abc import ABC,abstractmethod\n",
    "import copy\n",
    "class graphic_interface(ABC):\n",
    "    @abstractmethod\n",
    "    def clone(self):\n",
    "        pass\n",
    "    def __init__(self,color,name):\n",
    "        self.color = color\n",
    "        self.name = name\n",
    "        \n",
    "\n",
    "\n",
    "class graphic_line_shape(graphic_interface):\n",
    "    def __init__(self, color, length):\n",
    "        super().__init__(color=color, name=\"line\")\n",
    "        self.length = length\n",
    "        \n",
    "    def clone(self,deep=False):\n",
    "        return copy.copy(self) if deep==False else copy.deepcopy(self)\n",
    "    \n",
    "    def modified_shape(self,length):\n",
    "        self.length+=length\n",
    "        return self.length\n",
    "    \n",
    "    def draw_shape(self,co_ordinate):\n",
    "        print(f\"Drawing line from {co_ordinate} to {co_ordinate[1]}\")\n",
    "\n",
    "\n",
    "class graphic_cirle_shape(graphic_interface):\n",
    "    def __init__(self, color, radius):\n",
    "        super().__init__(color=color, name=\"circle\")\n",
    "        self.radius = radius\n",
    "        \n",
    "    def clone(self,deep=False):\n",
    "        return copy.copy(self) if deep==False else copy.deepcopy(self)\n",
    "    \n",
    "    def modified_shape(self,radius):\n",
    "        self.radius+=radius\n",
    "        return self.radius\n",
    "    \n",
    "    def draw_shape(self,co_ordinate):\n",
    "        print(f\"Drawing cirle on {co_ordinate} and {co_ordinate[1]}\")\n",
    "    \n",
    "\n",
    "class composite_graphic(graphic_cirle_shape,graphic_line_shape):\n",
    "    def __init__(self, color, radius,length):\n",
    "        self.line_obj = graphic_cirle_shape.__init__(self, color, radius)\n",
    "        self.circle_obj = graphic_line_shape.__init__(self, color, length)\n",
    "        self.name = \"Composite shape\"\n",
    "    \n",
    "    def clone(self,deep):\n",
    "        return copy.deepcopy(self) if deep else copy.copy(self)\n",
    "    \n",
    "\n",
    "        "
   ]
  }
 ],
 "metadata": {
  "kernelspec": {
   "display_name": "Python 3",
   "language": "python",
   "name": "python3"
  },
  "language_info": {
   "codemirror_mode": {
    "name": "ipython",
    "version": 3
   },
   "file_extension": ".py",
   "mimetype": "text/x-python",
   "name": "python",
   "nbconvert_exporter": "python",
   "pygments_lexer": "ipython3",
   "version": "3.12.7"
  }
 },
 "nbformat": 4,
 "nbformat_minor": 2
}
